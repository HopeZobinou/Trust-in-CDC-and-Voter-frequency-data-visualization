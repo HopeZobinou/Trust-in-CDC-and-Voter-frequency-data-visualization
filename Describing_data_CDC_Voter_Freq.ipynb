{
 "cells": [
  {
   "cell_type": "code",
   "execution_count": 1,
   "metadata": {},
   "outputs": [],
   "source": [
    "import pandas as pd\n",
    "import numpy as np\n",
    "import matplotlib.pyplot as plt"
   ]
  },
  {
   "cell_type": "code",
   "execution_count": 2,
   "metadata": {},
   "outputs": [],
   "source": [
    "#Part 1\n",
    "\n",
    "VoteData = pd.read_csv('vote_subset.csv')"
   ]
  },
  {
   "cell_type": "code",
   "execution_count": 3,
   "metadata": {},
   "outputs": [
    {
     "data": {
      "text/html": [
       "<div>\n",
       "<style scoped>\n",
       "    .dataframe tbody tr th:only-of-type {\n",
       "        vertical-align: middle;\n",
       "    }\n",
       "\n",
       "    .dataframe tbody tr th {\n",
       "        vertical-align: top;\n",
       "    }\n",
       "\n",
       "    .dataframe thead th {\n",
       "        text-align: right;\n",
       "    }\n",
       "</style>\n",
       "<table border=\"1\" class=\"dataframe\">\n",
       "  <thead>\n",
       "    <tr style=\"text-align: right;\">\n",
       "      <th></th>\n",
       "      <th>RespID</th>\n",
       "      <th>ppl_like_you</th>\n",
       "      <th>President</th>\n",
       "      <th>Congress</th>\n",
       "      <th>Supreme_Court</th>\n",
       "      <th>CDC</th>\n",
       "      <th>Election_officials</th>\n",
       "      <th>Intelligence</th>\n",
       "      <th>Media</th>\n",
       "      <th>Police</th>\n",
       "      <th>USPS</th>\n",
       "      <th>age</th>\n",
       "      <th>education</th>\n",
       "      <th>race</th>\n",
       "      <th>gender</th>\n",
       "      <th>income_cat</th>\n",
       "      <th>voter_cat</th>\n",
       "    </tr>\n",
       "  </thead>\n",
       "  <tbody>\n",
       "    <tr>\n",
       "      <th>0</th>\n",
       "      <td>470001</td>\n",
       "      <td>2.0</td>\n",
       "      <td>3.0</td>\n",
       "      <td>4.0</td>\n",
       "      <td>2.0</td>\n",
       "      <td>1.0</td>\n",
       "      <td>1.0</td>\n",
       "      <td>1.0</td>\n",
       "      <td>1.0</td>\n",
       "      <td>2.0</td>\n",
       "      <td>4.0</td>\n",
       "      <td>73</td>\n",
       "      <td>College</td>\n",
       "      <td>White</td>\n",
       "      <td>Female</td>\n",
       "      <td>$75-125k</td>\n",
       "      <td>always</td>\n",
       "    </tr>\n",
       "    <tr>\n",
       "      <th>1</th>\n",
       "      <td>470002</td>\n",
       "      <td>2.0</td>\n",
       "      <td>2.0</td>\n",
       "      <td>3.0</td>\n",
       "      <td>2.0</td>\n",
       "      <td>2.0</td>\n",
       "      <td>2.0</td>\n",
       "      <td>2.0</td>\n",
       "      <td>3.0</td>\n",
       "      <td>2.0</td>\n",
       "      <td>2.0</td>\n",
       "      <td>90</td>\n",
       "      <td>College</td>\n",
       "      <td>White</td>\n",
       "      <td>Female</td>\n",
       "      <td>$125k or more</td>\n",
       "      <td>always</td>\n",
       "    </tr>\n",
       "    <tr>\n",
       "      <th>2</th>\n",
       "      <td>470003</td>\n",
       "      <td>1.0</td>\n",
       "      <td>3.0</td>\n",
       "      <td>2.0</td>\n",
       "      <td>1.0</td>\n",
       "      <td>1.0</td>\n",
       "      <td>2.0</td>\n",
       "      <td>2.0</td>\n",
       "      <td>2.0</td>\n",
       "      <td>2.0</td>\n",
       "      <td>1.0</td>\n",
       "      <td>53</td>\n",
       "      <td>College</td>\n",
       "      <td>White</td>\n",
       "      <td>Male</td>\n",
       "      <td>$125k or more</td>\n",
       "      <td>sporadic</td>\n",
       "    </tr>\n",
       "    <tr>\n",
       "      <th>3</th>\n",
       "      <td>470007</td>\n",
       "      <td>3.0</td>\n",
       "      <td>3.0</td>\n",
       "      <td>2.0</td>\n",
       "      <td>2.0</td>\n",
       "      <td>2.0</td>\n",
       "      <td>2.0</td>\n",
       "      <td>2.0</td>\n",
       "      <td>2.0</td>\n",
       "      <td>2.0</td>\n",
       "      <td>2.0</td>\n",
       "      <td>58</td>\n",
       "      <td>Some college</td>\n",
       "      <td>Black</td>\n",
       "      <td>Female</td>\n",
       "      <td>$40-75k</td>\n",
       "      <td>sporadic</td>\n",
       "    </tr>\n",
       "    <tr>\n",
       "      <th>4</th>\n",
       "      <td>480008</td>\n",
       "      <td>2.0</td>\n",
       "      <td>1.0</td>\n",
       "      <td>3.0</td>\n",
       "      <td>2.0</td>\n",
       "      <td>3.0</td>\n",
       "      <td>3.0</td>\n",
       "      <td>3.0</td>\n",
       "      <td>4.0</td>\n",
       "      <td>2.0</td>\n",
       "      <td>2.0</td>\n",
       "      <td>81</td>\n",
       "      <td>High school or less</td>\n",
       "      <td>White</td>\n",
       "      <td>Male</td>\n",
       "      <td>$40-75k</td>\n",
       "      <td>always</td>\n",
       "    </tr>\n",
       "  </tbody>\n",
       "</table>\n",
       "</div>"
      ],
      "text/plain": [
       "   RespID  ppl_like_you  President  Congress  Supreme_Court  CDC  \\\n",
       "0  470001           2.0        3.0       4.0            2.0  1.0   \n",
       "1  470002           2.0        2.0       3.0            2.0  2.0   \n",
       "2  470003           1.0        3.0       2.0            1.0  1.0   \n",
       "3  470007           3.0        3.0       2.0            2.0  2.0   \n",
       "4  480008           2.0        1.0       3.0            2.0  3.0   \n",
       "\n",
       "   Election_officials  Intelligence  Media  Police  USPS  age  \\\n",
       "0                 1.0           1.0    1.0     2.0   4.0   73   \n",
       "1                 2.0           2.0    3.0     2.0   2.0   90   \n",
       "2                 2.0           2.0    2.0     2.0   1.0   53   \n",
       "3                 2.0           2.0    2.0     2.0   2.0   58   \n",
       "4                 3.0           3.0    4.0     2.0   2.0   81   \n",
       "\n",
       "             education   race  gender     income_cat voter_cat  \n",
       "0              College  White  Female       $75-125k    always  \n",
       "1              College  White  Female  $125k or more    always  \n",
       "2              College  White    Male  $125k or more  sporadic  \n",
       "3         Some college  Black  Female        $40-75k  sporadic  \n",
       "4  High school or less  White    Male        $40-75k    always  "
      ]
     },
     "execution_count": 3,
     "metadata": {},
     "output_type": "execute_result"
    }
   ],
   "source": [
    "VoteData.head()"
   ]
  },
  {
   "cell_type": "code",
   "execution_count": 4,
   "metadata": {},
   "outputs": [],
   "source": [
    "VoteDataSubset = VoteData[['ppl_like_you', 'CDC']]"
   ]
  },
  {
   "cell_type": "code",
   "execution_count": 5,
   "metadata": {},
   "outputs": [
    {
     "data": {
      "text/html": [
       "<div>\n",
       "<style scoped>\n",
       "    .dataframe tbody tr th:only-of-type {\n",
       "        vertical-align: middle;\n",
       "    }\n",
       "\n",
       "    .dataframe tbody tr th {\n",
       "        vertical-align: top;\n",
       "    }\n",
       "\n",
       "    .dataframe thead th {\n",
       "        text-align: right;\n",
       "    }\n",
       "</style>\n",
       "<table border=\"1\" class=\"dataframe\">\n",
       "  <thead>\n",
       "    <tr style=\"text-align: right;\">\n",
       "      <th></th>\n",
       "      <th>ppl_like_you</th>\n",
       "      <th>CDC</th>\n",
       "    </tr>\n",
       "  </thead>\n",
       "  <tbody>\n",
       "    <tr>\n",
       "      <th>0</th>\n",
       "      <td>2.0</td>\n",
       "      <td>1.0</td>\n",
       "    </tr>\n",
       "    <tr>\n",
       "      <th>1</th>\n",
       "      <td>2.0</td>\n",
       "      <td>2.0</td>\n",
       "    </tr>\n",
       "    <tr>\n",
       "      <th>2</th>\n",
       "      <td>1.0</td>\n",
       "      <td>1.0</td>\n",
       "    </tr>\n",
       "    <tr>\n",
       "      <th>3</th>\n",
       "      <td>3.0</td>\n",
       "      <td>2.0</td>\n",
       "    </tr>\n",
       "    <tr>\n",
       "      <th>4</th>\n",
       "      <td>2.0</td>\n",
       "      <td>3.0</td>\n",
       "    </tr>\n",
       "  </tbody>\n",
       "</table>\n",
       "</div>"
      ],
      "text/plain": [
       "   ppl_like_you  CDC\n",
       "0           2.0  1.0\n",
       "1           2.0  2.0\n",
       "2           1.0  1.0\n",
       "3           3.0  2.0\n",
       "4           2.0  3.0"
      ]
     },
     "execution_count": 5,
     "metadata": {},
     "output_type": "execute_result"
    }
   ],
   "source": [
    "VoteDataSubset.head() #A: Ordinal data, so use a bar graph"
   ]
  },
  {
   "cell_type": "code",
   "execution_count": 6,
   "metadata": {},
   "outputs": [],
   "source": [
    "VoteDataSubset = VoteDataSubset[(VoteDataSubset['ppl_like_you'] > 0) & (VoteDataSubset['CDC'] > 0)]"
   ]
  },
  {
   "cell_type": "code",
   "execution_count": 7,
   "metadata": {},
   "outputs": [
    {
     "data": {
      "text/html": [
       "<div>\n",
       "<style scoped>\n",
       "    .dataframe tbody tr th:only-of-type {\n",
       "        vertical-align: middle;\n",
       "    }\n",
       "\n",
       "    .dataframe tbody tr th {\n",
       "        vertical-align: top;\n",
       "    }\n",
       "\n",
       "    .dataframe thead th {\n",
       "        text-align: right;\n",
       "    }\n",
       "</style>\n",
       "<table border=\"1\" class=\"dataframe\">\n",
       "  <thead>\n",
       "    <tr style=\"text-align: right;\">\n",
       "      <th></th>\n",
       "      <th>ppl_like_you</th>\n",
       "      <th>CDC</th>\n",
       "    </tr>\n",
       "  </thead>\n",
       "  <tbody>\n",
       "    <tr>\n",
       "      <th>count</th>\n",
       "      <td>5769.000000</td>\n",
       "      <td>5769.000000</td>\n",
       "    </tr>\n",
       "    <tr>\n",
       "      <th>mean</th>\n",
       "      <td>2.879008</td>\n",
       "      <td>2.017334</td>\n",
       "    </tr>\n",
       "    <tr>\n",
       "      <th>std</th>\n",
       "      <td>0.801951</td>\n",
       "      <td>0.876993</td>\n",
       "    </tr>\n",
       "    <tr>\n",
       "      <th>min</th>\n",
       "      <td>1.000000</td>\n",
       "      <td>1.000000</td>\n",
       "    </tr>\n",
       "    <tr>\n",
       "      <th>25%</th>\n",
       "      <td>2.000000</td>\n",
       "      <td>1.000000</td>\n",
       "    </tr>\n",
       "    <tr>\n",
       "      <th>50%</th>\n",
       "      <td>3.000000</td>\n",
       "      <td>2.000000</td>\n",
       "    </tr>\n",
       "    <tr>\n",
       "      <th>75%</th>\n",
       "      <td>3.000000</td>\n",
       "      <td>2.000000</td>\n",
       "    </tr>\n",
       "    <tr>\n",
       "      <th>max</th>\n",
       "      <td>4.000000</td>\n",
       "      <td>4.000000</td>\n",
       "    </tr>\n",
       "  </tbody>\n",
       "</table>\n",
       "</div>"
      ],
      "text/plain": [
       "       ppl_like_you          CDC\n",
       "count   5769.000000  5769.000000\n",
       "mean       2.879008     2.017334\n",
       "std        0.801951     0.876993\n",
       "min        1.000000     1.000000\n",
       "25%        2.000000     1.000000\n",
       "50%        3.000000     2.000000\n",
       "75%        3.000000     2.000000\n",
       "max        4.000000     4.000000"
      ]
     },
     "execution_count": 7,
     "metadata": {},
     "output_type": "execute_result"
    }
   ],
   "source": [
    "VoteDataSubset.describe()"
   ]
  },
  {
   "cell_type": "code",
   "execution_count": 8,
   "metadata": {},
   "outputs": [],
   "source": [
    "VoteDataSubset['ppl_like_you'].mask(VoteDataSubset['ppl_like_you'] == 1.0 ,'A lot', inplace=True)\n",
    "VoteDataSubset['ppl_like_you'].mask(VoteDataSubset['ppl_like_you'] == 2.0 ,'Some', inplace=True)\n",
    "VoteDataSubset['ppl_like_you'].mask(VoteDataSubset['ppl_like_you'] == 3.0 ,'Only a few', inplace=True)\n",
    "VoteDataSubset['ppl_like_you'].mask(VoteDataSubset['ppl_like_you'] == 4.0 ,'None', inplace=True)"
   ]
  },
  {
   "cell_type": "code",
   "execution_count": 9,
   "metadata": {},
   "outputs": [],
   "source": [
    "VoteDataSubset['CDC'].mask(VoteDataSubset['CDC'] == 1.0 ,'A lot', inplace=True)\n",
    "VoteDataSubset['CDC'].mask(VoteDataSubset['CDC'] == 2.0 ,'Some', inplace=True)\n",
    "VoteDataSubset['CDC'].mask(VoteDataSubset['CDC'] == 3.0 ,'Not much', inplace=True)\n",
    "VoteDataSubset['CDC'].mask(VoteDataSubset['CDC'] == 4.0 ,'Not at all', inplace=True)"
   ]
  },
  {
   "cell_type": "code",
   "execution_count": 10,
   "metadata": {},
   "outputs": [
    {
     "data": {
      "text/plain": [
       "Only a few    2659\n",
       "Some          1562\n",
       "None          1320\n",
       "A lot          228\n",
       "Name: ppl_like_you, dtype: int64"
      ]
     },
     "execution_count": 10,
     "metadata": {},
     "output_type": "execute_result"
    }
   ],
   "source": [
    "VoteDataSubset['ppl_like_you'].value_counts() #A: categorical data"
   ]
  },
  {
   "cell_type": "code",
   "execution_count": 11,
   "metadata": {},
   "outputs": [
    {
     "data": {
      "text/plain": [
       "Some          2627\n",
       "A lot         1737\n",
       "Not much       973\n",
       "Not at all     432\n",
       "Name: CDC, dtype: int64"
      ]
     },
     "execution_count": 11,
     "metadata": {},
     "output_type": "execute_result"
    }
   ],
   "source": [
    "VoteDataSubset['CDC'].value_counts()"
   ]
  },
  {
   "cell_type": "code",
   "execution_count": 12,
   "metadata": {},
   "outputs": [
    {
     "data": {
      "text/html": [
       "<div>\n",
       "<style scoped>\n",
       "    .dataframe tbody tr th:only-of-type {\n",
       "        vertical-align: middle;\n",
       "    }\n",
       "\n",
       "    .dataframe tbody tr th {\n",
       "        vertical-align: top;\n",
       "    }\n",
       "\n",
       "    .dataframe thead th {\n",
       "        text-align: right;\n",
       "    }\n",
       "</style>\n",
       "<table border=\"1\" class=\"dataframe\">\n",
       "  <thead>\n",
       "    <tr style=\"text-align: right;\">\n",
       "      <th></th>\n",
       "      <th>ppl_like_you</th>\n",
       "      <th>CDC</th>\n",
       "    </tr>\n",
       "  </thead>\n",
       "  <tbody>\n",
       "    <tr>\n",
       "      <th>0</th>\n",
       "      <td>Some</td>\n",
       "      <td>A lot</td>\n",
       "    </tr>\n",
       "    <tr>\n",
       "      <th>1</th>\n",
       "      <td>Some</td>\n",
       "      <td>Some</td>\n",
       "    </tr>\n",
       "    <tr>\n",
       "      <th>2</th>\n",
       "      <td>A lot</td>\n",
       "      <td>A lot</td>\n",
       "    </tr>\n",
       "    <tr>\n",
       "      <th>3</th>\n",
       "      <td>Only a few</td>\n",
       "      <td>Some</td>\n",
       "    </tr>\n",
       "    <tr>\n",
       "      <th>4</th>\n",
       "      <td>Some</td>\n",
       "      <td>Not much</td>\n",
       "    </tr>\n",
       "  </tbody>\n",
       "</table>\n",
       "</div>"
      ],
      "text/plain": [
       "  ppl_like_you       CDC\n",
       "0         Some     A lot\n",
       "1         Some      Some\n",
       "2        A lot     A lot\n",
       "3   Only a few      Some\n",
       "4         Some  Not much"
      ]
     },
     "execution_count": 12,
     "metadata": {},
     "output_type": "execute_result"
    }
   ],
   "source": [
    "VoteDataSubset.head()"
   ]
  },
  {
   "cell_type": "code",
   "execution_count": 23,
   "metadata": {},
   "outputs": [
    {
     "data": {
      "text/html": [
       "<div>\n",
       "<style scoped>\n",
       "    .dataframe tbody tr th:only-of-type {\n",
       "        vertical-align: middle;\n",
       "    }\n",
       "\n",
       "    .dataframe tbody tr th {\n",
       "        vertical-align: top;\n",
       "    }\n",
       "\n",
       "    .dataframe thead th {\n",
       "        text-align: right;\n",
       "    }\n",
       "</style>\n",
       "<table border=\"1\" class=\"dataframe\">\n",
       "  <thead>\n",
       "    <tr style=\"text-align: right;\">\n",
       "      <th>CDC</th>\n",
       "      <th>A lot</th>\n",
       "      <th>Some</th>\n",
       "      <th>Not much</th>\n",
       "      <th>Not at all</th>\n",
       "    </tr>\n",
       "    <tr>\n",
       "      <th>ppl_like_you</th>\n",
       "      <th></th>\n",
       "      <th></th>\n",
       "      <th></th>\n",
       "      <th></th>\n",
       "    </tr>\n",
       "  </thead>\n",
       "  <tbody>\n",
       "    <tr>\n",
       "      <th>None</th>\n",
       "      <td>332</td>\n",
       "      <td>612</td>\n",
       "      <td>223</td>\n",
       "      <td>153</td>\n",
       "    </tr>\n",
       "    <tr>\n",
       "      <th>Only a few</th>\n",
       "      <td>763</td>\n",
       "      <td>1241</td>\n",
       "      <td>476</td>\n",
       "      <td>179</td>\n",
       "    </tr>\n",
       "    <tr>\n",
       "      <th>Some</th>\n",
       "      <td>533</td>\n",
       "      <td>705</td>\n",
       "      <td>247</td>\n",
       "      <td>77</td>\n",
       "    </tr>\n",
       "    <tr>\n",
       "      <th>A lot</th>\n",
       "      <td>109</td>\n",
       "      <td>69</td>\n",
       "      <td>27</td>\n",
       "      <td>23</td>\n",
       "    </tr>\n",
       "  </tbody>\n",
       "</table>\n",
       "</div>"
      ],
      "text/plain": [
       "CDC           A lot  Some  Not much  Not at all\n",
       "ppl_like_you                                   \n",
       "None            332   612       223         153\n",
       "Only a few      763  1241       476         179\n",
       "Some            533   705       247          77\n",
       "A lot           109    69        27          23"
      ]
     },
     "execution_count": 23,
     "metadata": {},
     "output_type": "execute_result"
    }
   ],
   "source": [
    "raw_ppl_CDC_table = pd.crosstab(VoteDataSubset['ppl_like_you'], VoteDataSubset['CDC']).reindex(columns = \n",
    "                                                        ['A lot', 'Some', 'Not much', 'Not at all'],\n",
    "                                                        index = ['None', 'Only a few', 'Some', 'A lot'])                                       \n",
    "                                                        #index = ['A lot', 'Some', 'Only a few', 'None'])\n",
    "raw_ppl_CDC_table"
   ]
  },
  {
   "cell_type": "code",
   "execution_count": 24,
   "metadata": {},
   "outputs": [
    {
     "data": {
      "text/html": [
       "<div>\n",
       "<style scoped>\n",
       "    .dataframe tbody tr th:only-of-type {\n",
       "        vertical-align: middle;\n",
       "    }\n",
       "\n",
       "    .dataframe tbody tr th {\n",
       "        vertical-align: top;\n",
       "    }\n",
       "\n",
       "    .dataframe thead th {\n",
       "        text-align: right;\n",
       "    }\n",
       "</style>\n",
       "<table border=\"1\" class=\"dataframe\">\n",
       "  <thead>\n",
       "    <tr style=\"text-align: right;\">\n",
       "      <th>CDC</th>\n",
       "      <th>A lot</th>\n",
       "      <th>Some</th>\n",
       "      <th>Not much</th>\n",
       "      <th>Not at all</th>\n",
       "    </tr>\n",
       "    <tr>\n",
       "      <th>ppl_like_you</th>\n",
       "      <th></th>\n",
       "      <th></th>\n",
       "      <th></th>\n",
       "      <th></th>\n",
       "    </tr>\n",
       "  </thead>\n",
       "  <tbody>\n",
       "    <tr>\n",
       "      <th>None</th>\n",
       "      <td>0.251515</td>\n",
       "      <td>0.463636</td>\n",
       "      <td>0.168939</td>\n",
       "      <td>0.115909</td>\n",
       "    </tr>\n",
       "    <tr>\n",
       "      <th>Only a few</th>\n",
       "      <td>0.286950</td>\n",
       "      <td>0.466717</td>\n",
       "      <td>0.179015</td>\n",
       "      <td>0.067319</td>\n",
       "    </tr>\n",
       "    <tr>\n",
       "      <th>Some</th>\n",
       "      <td>0.341229</td>\n",
       "      <td>0.451344</td>\n",
       "      <td>0.158131</td>\n",
       "      <td>0.049296</td>\n",
       "    </tr>\n",
       "    <tr>\n",
       "      <th>A lot</th>\n",
       "      <td>0.478070</td>\n",
       "      <td>0.302632</td>\n",
       "      <td>0.118421</td>\n",
       "      <td>0.100877</td>\n",
       "    </tr>\n",
       "  </tbody>\n",
       "</table>\n",
       "</div>"
      ],
      "text/plain": [
       "CDC              A lot      Some  Not much  Not at all\n",
       "ppl_like_you                                          \n",
       "None          0.251515  0.463636  0.168939    0.115909\n",
       "Only a few    0.286950  0.466717  0.179015    0.067319\n",
       "Some          0.341229  0.451344  0.158131    0.049296\n",
       "A lot         0.478070  0.302632  0.118421    0.100877"
      ]
     },
     "execution_count": 24,
     "metadata": {},
     "output_type": "execute_result"
    }
   ],
   "source": [
    "ppl_CDC_table = pd.crosstab(VoteDataSubset['ppl_like_you'], VoteDataSubset['CDC'], normalize = 'index').reindex(columns = \n",
    "                                                        ['A lot', 'Some', 'Not much', 'Not at all'],\n",
    "                                                        index = ['None', 'Only a few', 'Some', 'A lot'])                                                        \n",
    "                                                        #index = ['A lot', 'Some', 'Only a few', 'None'])\n",
    "ppl_CDC_table #B: Data are in proportions"
   ]
  },
  {
   "cell_type": "code",
   "execution_count": 25,
   "metadata": {},
   "outputs": [
    {
     "data": {
      "image/png": "[encoded data removed]",
      "text/plain": [
       "<Figure size 432x288 with 1 Axes>"
      ]
     },
     "metadata": {
      "needs_background": "light"
     },
     "output_type": "display_data"
    }
   ],
   "source": [
    "ppl_CDC_table.plot.bar(stacked = True)\n",
    "plt.show()"
   ]
  },
  {
   "cell_type": "code",
   "execution_count": 26,
   "metadata": {},
   "outputs": [
    {
     "data": {
      "image/png": "[encoded data removed]",
      "text/plain": [
       "<Figure size 504x432 with 1 Axes>"
      ]
     },
     "metadata": {
      "needs_background": "light"
     },
     "output_type": "display_data"
    }
   ],
   "source": [
    "ax = ppl_CDC_table.plot.bar(stacked = True, color = ['indigo', 'blueviolet', 'violet', 'thistle'], rot = 0, figsize = [7,6],\n",
    "              fontsize = 16, edgecolor = 'white', linewidth = 0.5)\n",
    "plt.xlabel('How many of the people in elected office today are like you?', fontsize = 18, labelpad = 20)\n",
    "[ax.spines[i].set_visible(False) for i in ax.spines]\n",
    "ax.tick_params(length = 0, pad = 10)\n",
    "ax.get_yaxis().set_visible(False) \n",
    "plt.legend(bbox_to_anchor = [-0.2,1])\n",
    "\n",
    "plt.show()"
   ]
  },
  {
   "cell_type": "code",
   "execution_count": 27,
   "metadata": {},
   "outputs": [
    {
     "data": {
      "image/png": "[encoded data removed]",
      "text/plain": [
       "<Figure size 504x432 with 1 Axes>"
      ]
     },
     "metadata": {
      "needs_background": "light"
     },
     "output_type": "display_data"
    }
   ],
   "source": [
    "ax = ppl_CDC_table.plot.bar(stacked = True, color = ['indigo', 'blueviolet', 'violet', 'thistle'], rot = 0, figsize = [7,6],\n",
    "              fontsize = 16, edgecolor = 'white', linewidth = 0.5)\n",
    "plt.xlabel('How many of the people \\nin elected office today are like you?', fontsize = 18, labelpad = 25)\n",
    "[ax.spines[i].set_visible(False) for i in ax.spines]\n",
    "ax.tick_params(length = 0, pad = 10)\n",
    "ax.get_yaxis().set_visible(False) \n",
    "plt.legend(bbox_to_anchor = [-0.2,1])\n",
    "\n",
    "for patch in ax.patches:\n",
    "    x,y,width,height = patch.get_x(), patch.get_y(), patch.get_width(), patch.get_height()\n",
    "    center_x = x + width/2\n",
    "    center_y = y + height/2\n",
    "    label = f'{height*100:.0f}%'\n",
    "    plt.text(center_x,center_y,label,ha = 'center', va = 'center', color = 'white', weight = 'bold', fontsize = 14)\n",
    "\n",
    "for i in range(raw_ppl_CDC_table.shape[0]):\n",
    "    label = 'n=' + str(raw_ppl_CDC_table.iloc[i].sum())\n",
    "    plt.text(i, 1.03, label, ha = 'center', fontsize = 14)  \n",
    "    \n",
    "handles,labels = ax.get_legend_handles_labels()   \n",
    "handles = handles[::-1]\n",
    "labels = labels[::-1]\n",
    "legend = plt.legend(handles, labels, bbox_to_anchor = [-0.3,0.7], loc = 'center',\n",
    "                 title = 'How much would \\n you trust the CDC?', title_fontsize = 16, \n",
    "                 fontsize = 12, frameon = False) \n",
    "legend.get_title().set_multialignment('center')\n",
    "\n",
    "plt.savefig('stacked_bar.png', bbox_inches = 'tight')\n",
    "\n",
    "plt.show()"
   ]
  },
  {
   "cell_type": "code",
   "execution_count": 28,
   "metadata": {},
   "outputs": [],
   "source": [
    "#Part 2\n",
    "\n",
    "VotingData = pd.read_csv('Vote_subset.csv')"
   ]
  },
  {
   "cell_type": "code",
   "execution_count": 29,
   "metadata": {},
   "outputs": [
    {
     "data": {
      "text/html": [
       "<div>\n",
       "<style scoped>\n",
       "    .dataframe tbody tr th:only-of-type {\n",
       "        vertical-align: middle;\n",
       "    }\n",
       "\n",
       "    .dataframe tbody tr th {\n",
       "        vertical-align: top;\n",
       "    }\n",
       "\n",
       "    .dataframe thead th {\n",
       "        text-align: right;\n",
       "    }\n",
       "</style>\n",
       "<table border=\"1\" class=\"dataframe\">\n",
       "  <thead>\n",
       "    <tr style=\"text-align: right;\">\n",
       "      <th></th>\n",
       "      <th>RespID</th>\n",
       "      <th>ppl_like_you</th>\n",
       "      <th>President</th>\n",
       "      <th>Congress</th>\n",
       "      <th>Supreme_Court</th>\n",
       "      <th>CDC</th>\n",
       "      <th>Election_officials</th>\n",
       "      <th>Intelligence</th>\n",
       "      <th>Media</th>\n",
       "      <th>Police</th>\n",
       "      <th>USPS</th>\n",
       "      <th>age</th>\n",
       "      <th>education</th>\n",
       "      <th>race</th>\n",
       "      <th>gender</th>\n",
       "      <th>income_cat</th>\n",
       "      <th>voter_cat</th>\n",
       "    </tr>\n",
       "  </thead>\n",
       "  <tbody>\n",
       "    <tr>\n",
       "      <th>0</th>\n",
       "      <td>470001</td>\n",
       "      <td>2.0</td>\n",
       "      <td>3.0</td>\n",
       "      <td>4.0</td>\n",
       "      <td>2.0</td>\n",
       "      <td>1.0</td>\n",
       "      <td>1.0</td>\n",
       "      <td>1.0</td>\n",
       "      <td>1.0</td>\n",
       "      <td>2.0</td>\n",
       "      <td>4.0</td>\n",
       "      <td>73</td>\n",
       "      <td>College</td>\n",
       "      <td>White</td>\n",
       "      <td>Female</td>\n",
       "      <td>$75-125k</td>\n",
       "      <td>always</td>\n",
       "    </tr>\n",
       "    <tr>\n",
       "      <th>1</th>\n",
       "      <td>470002</td>\n",
       "      <td>2.0</td>\n",
       "      <td>2.0</td>\n",
       "      <td>3.0</td>\n",
       "      <td>2.0</td>\n",
       "      <td>2.0</td>\n",
       "      <td>2.0</td>\n",
       "      <td>2.0</td>\n",
       "      <td>3.0</td>\n",
       "      <td>2.0</td>\n",
       "      <td>2.0</td>\n",
       "      <td>90</td>\n",
       "      <td>College</td>\n",
       "      <td>White</td>\n",
       "      <td>Female</td>\n",
       "      <td>$125k or more</td>\n",
       "      <td>always</td>\n",
       "    </tr>\n",
       "    <tr>\n",
       "      <th>2</th>\n",
       "      <td>470003</td>\n",
       "      <td>1.0</td>\n",
       "      <td>3.0</td>\n",
       "      <td>2.0</td>\n",
       "      <td>1.0</td>\n",
       "      <td>1.0</td>\n",
       "      <td>2.0</td>\n",
       "      <td>2.0</td>\n",
       "      <td>2.0</td>\n",
       "      <td>2.0</td>\n",
       "      <td>1.0</td>\n",
       "      <td>53</td>\n",
       "      <td>College</td>\n",
       "      <td>White</td>\n",
       "      <td>Male</td>\n",
       "      <td>$125k or more</td>\n",
       "      <td>sporadic</td>\n",
       "    </tr>\n",
       "    <tr>\n",
       "      <th>3</th>\n",
       "      <td>470007</td>\n",
       "      <td>3.0</td>\n",
       "      <td>3.0</td>\n",
       "      <td>2.0</td>\n",
       "      <td>2.0</td>\n",
       "      <td>2.0</td>\n",
       "      <td>2.0</td>\n",
       "      <td>2.0</td>\n",
       "      <td>2.0</td>\n",
       "      <td>2.0</td>\n",
       "      <td>2.0</td>\n",
       "      <td>58</td>\n",
       "      <td>Some college</td>\n",
       "      <td>Black</td>\n",
       "      <td>Female</td>\n",
       "      <td>$40-75k</td>\n",
       "      <td>sporadic</td>\n",
       "    </tr>\n",
       "    <tr>\n",
       "      <th>4</th>\n",
       "      <td>480008</td>\n",
       "      <td>2.0</td>\n",
       "      <td>1.0</td>\n",
       "      <td>3.0</td>\n",
       "      <td>2.0</td>\n",
       "      <td>3.0</td>\n",
       "      <td>3.0</td>\n",
       "      <td>3.0</td>\n",
       "      <td>4.0</td>\n",
       "      <td>2.0</td>\n",
       "      <td>2.0</td>\n",
       "      <td>81</td>\n",
       "      <td>High school or less</td>\n",
       "      <td>White</td>\n",
       "      <td>Male</td>\n",
       "      <td>$40-75k</td>\n",
       "      <td>always</td>\n",
       "    </tr>\n",
       "  </tbody>\n",
       "</table>\n",
       "</div>"
      ],
      "text/plain": [
       "   RespID  ppl_like_you  President  Congress  Supreme_Court  CDC  \\\n",
       "0  470001           2.0        3.0       4.0            2.0  1.0   \n",
       "1  470002           2.0        2.0       3.0            2.0  2.0   \n",
       "2  470003           1.0        3.0       2.0            1.0  1.0   \n",
       "3  470007           3.0        3.0       2.0            2.0  2.0   \n",
       "4  480008           2.0        1.0       3.0            2.0  3.0   \n",
       "\n",
       "   Election_officials  Intelligence  Media  Police  USPS  age  \\\n",
       "0                 1.0           1.0    1.0     2.0   4.0   73   \n",
       "1                 2.0           2.0    3.0     2.0   2.0   90   \n",
       "2                 2.0           2.0    2.0     2.0   1.0   53   \n",
       "3                 2.0           2.0    2.0     2.0   2.0   58   \n",
       "4                 3.0           3.0    4.0     2.0   2.0   81   \n",
       "\n",
       "             education   race  gender     income_cat voter_cat  \n",
       "0              College  White  Female       $75-125k    always  \n",
       "1              College  White  Female  $125k or more    always  \n",
       "2              College  White    Male  $125k or more  sporadic  \n",
       "3         Some college  Black  Female        $40-75k  sporadic  \n",
       "4  High school or less  White    Male        $40-75k    always  "
      ]
     },
     "execution_count": 29,
     "metadata": {},
     "output_type": "execute_result"
    }
   ],
   "source": [
    "VotingData.head()"
   ]
  },
  {
   "cell_type": "code",
   "execution_count": 30,
   "metadata": {},
   "outputs": [
    {
     "data": {
      "text/html": [
       "<div>\n",
       "<style scoped>\n",
       "    .dataframe tbody tr th:only-of-type {\n",
       "        vertical-align: middle;\n",
       "    }\n",
       "\n",
       "    .dataframe tbody tr th {\n",
       "        vertical-align: top;\n",
       "    }\n",
       "\n",
       "    .dataframe thead th {\n",
       "        text-align: right;\n",
       "    }\n",
       "</style>\n",
       "<table border=\"1\" class=\"dataframe\">\n",
       "  <thead>\n",
       "    <tr style=\"text-align: right;\">\n",
       "      <th></th>\n",
       "      <th>age</th>\n",
       "      <th>voter_cat</th>\n",
       "    </tr>\n",
       "  </thead>\n",
       "  <tbody>\n",
       "    <tr>\n",
       "      <th>0</th>\n",
       "      <td>73</td>\n",
       "      <td>always</td>\n",
       "    </tr>\n",
       "    <tr>\n",
       "      <th>1</th>\n",
       "      <td>90</td>\n",
       "      <td>always</td>\n",
       "    </tr>\n",
       "    <tr>\n",
       "      <th>2</th>\n",
       "      <td>53</td>\n",
       "      <td>sporadic</td>\n",
       "    </tr>\n",
       "    <tr>\n",
       "      <th>3</th>\n",
       "      <td>58</td>\n",
       "      <td>sporadic</td>\n",
       "    </tr>\n",
       "    <tr>\n",
       "      <th>4</th>\n",
       "      <td>81</td>\n",
       "      <td>always</td>\n",
       "    </tr>\n",
       "  </tbody>\n",
       "</table>\n",
       "</div>"
      ],
      "text/plain": [
       "   age voter_cat\n",
       "0   73    always\n",
       "1   90    always\n",
       "2   53  sporadic\n",
       "3   58  sporadic\n",
       "4   81    always"
      ]
     },
     "execution_count": 30,
     "metadata": {},
     "output_type": "execute_result"
    }
   ],
   "source": [
    "VotingDataSub = VotingData[['age', 'voter_cat']]\n",
    "VotingDataSub.head()"
   ]
  },
  {
   "cell_type": "code",
   "execution_count": 31,
   "metadata": {},
   "outputs": [
    {
     "data": {
      "text/html": [
       "<div>\n",
       "<style scoped>\n",
       "    .dataframe tbody tr th:only-of-type {\n",
       "        vertical-align: middle;\n",
       "    }\n",
       "\n",
       "    .dataframe tbody tr th {\n",
       "        vertical-align: top;\n",
       "    }\n",
       "\n",
       "    .dataframe thead th {\n",
       "        text-align: right;\n",
       "    }\n",
       "</style>\n",
       "<table border=\"1\" class=\"dataframe\">\n",
       "  <thead>\n",
       "    <tr style=\"text-align: right;\">\n",
       "      <th></th>\n",
       "      <th>age</th>\n",
       "    </tr>\n",
       "  </thead>\n",
       "  <tbody>\n",
       "    <tr>\n",
       "      <th>count</th>\n",
       "      <td>5836.000000</td>\n",
       "    </tr>\n",
       "    <tr>\n",
       "      <th>mean</th>\n",
       "      <td>51.693797</td>\n",
       "    </tr>\n",
       "    <tr>\n",
       "      <th>std</th>\n",
       "      <td>17.071561</td>\n",
       "    </tr>\n",
       "    <tr>\n",
       "      <th>min</th>\n",
       "      <td>22.000000</td>\n",
       "    </tr>\n",
       "    <tr>\n",
       "      <th>25%</th>\n",
       "      <td>36.000000</td>\n",
       "    </tr>\n",
       "    <tr>\n",
       "      <th>50%</th>\n",
       "      <td>54.000000</td>\n",
       "    </tr>\n",
       "    <tr>\n",
       "      <th>75%</th>\n",
       "      <td>65.000000</td>\n",
       "    </tr>\n",
       "    <tr>\n",
       "      <th>max</th>\n",
       "      <td>94.000000</td>\n",
       "    </tr>\n",
       "  </tbody>\n",
       "</table>\n",
       "</div>"
      ],
      "text/plain": [
       "               age\n",
       "count  5836.000000\n",
       "mean     51.693797\n",
       "std      17.071561\n",
       "min      22.000000\n",
       "25%      36.000000\n",
       "50%      54.000000\n",
       "75%      65.000000\n",
       "max      94.000000"
      ]
     },
     "execution_count": 31,
     "metadata": {},
     "output_type": "execute_result"
    }
   ],
   "source": [
    "VotingDataSub.describe()"
   ]
  },
  {
   "cell_type": "code",
   "execution_count": 32,
   "metadata": {},
   "outputs": [
    {
     "data": {
      "text/plain": [
       "array(['always', 'sporadic', 'rarely/never'], dtype=object)"
      ]
     },
     "execution_count": 32,
     "metadata": {},
     "output_type": "execute_result"
    }
   ],
   "source": [
    "VotingDataSub['voter_cat'].unique()"
   ]
  },
  {
   "cell_type": "code",
   "execution_count": 33,
   "metadata": {},
   "outputs": [
    {
     "data": {
      "text/plain": [
       "array([73, 90, 53, 58, 81, 61, 80, 68, 70, 83, 43, 42, 48, 52, 76, 63, 46,\n",
       "       62, 84, 71, 50, 77, 67, 54, 47, 87, 55, 64, 82, 66, 75, 59, 44, 36,\n",
       "       56, 57, 29, 38, 26, 27, 28, 49, 72, 39, 40, 74, 65, 89, 69, 79, 30,\n",
       "       41, 78, 60, 25, 22, 88, 31, 35, 85, 32, 51, 45, 86, 37, 92, 33, 24,\n",
       "       34, 23, 94, 91], dtype=int64)"
      ]
     },
     "execution_count": 33,
     "metadata": {},
     "output_type": "execute_result"
    }
   ],
   "source": [
    "VotingDataSub['age'].unique()"
   ]
  },
  {
   "cell_type": "code",
   "execution_count": 34,
   "metadata": {},
   "outputs": [
    {
     "data": {
      "text/html": [
       "<div>\n",
       "<style scoped>\n",
       "    .dataframe tbody tr th:only-of-type {\n",
       "        vertical-align: middle;\n",
       "    }\n",
       "\n",
       "    .dataframe tbody tr th {\n",
       "        vertical-align: top;\n",
       "    }\n",
       "\n",
       "    .dataframe thead th {\n",
       "        text-align: right;\n",
       "    }\n",
       "</style>\n",
       "<table border=\"1\" class=\"dataframe\">\n",
       "  <thead>\n",
       "    <tr style=\"text-align: right;\">\n",
       "      <th></th>\n",
       "      <th>age</th>\n",
       "      <th>voter_cat</th>\n",
       "    </tr>\n",
       "  </thead>\n",
       "  <tbody>\n",
       "    <tr>\n",
       "      <th>0</th>\n",
       "      <td>73</td>\n",
       "      <td>always</td>\n",
       "    </tr>\n",
       "    <tr>\n",
       "      <th>1</th>\n",
       "      <td>90</td>\n",
       "      <td>always</td>\n",
       "    </tr>\n",
       "    <tr>\n",
       "      <th>4</th>\n",
       "      <td>81</td>\n",
       "      <td>always</td>\n",
       "    </tr>\n",
       "    <tr>\n",
       "      <th>6</th>\n",
       "      <td>80</td>\n",
       "      <td>always</td>\n",
       "    </tr>\n",
       "    <tr>\n",
       "      <th>7</th>\n",
       "      <td>68</td>\n",
       "      <td>always</td>\n",
       "    </tr>\n",
       "  </tbody>\n",
       "</table>\n",
       "</div>"
      ],
      "text/plain": [
       "   age voter_cat\n",
       "0   73    always\n",
       "1   90    always\n",
       "4   81    always\n",
       "6   80    always\n",
       "7   68    always"
      ]
     },
     "execution_count": 34,
     "metadata": {},
     "output_type": "execute_result"
    }
   ],
   "source": [
    "AlwaysVoter = VotingDataSub[VotingDataSub['voter_cat'] == 'always']\n",
    "AlwaysVoter.head()"
   ]
  },
  {
   "cell_type": "code",
   "execution_count": 35,
   "metadata": {
    "scrolled": true
   },
   "outputs": [
    {
     "data": {
      "text/plain": [
       "0       73\n",
       "1       90\n",
       "4       81\n",
       "6       80\n",
       "7       68\n",
       "        ..\n",
       "5810    23\n",
       "5819    70\n",
       "5831    27\n",
       "5834    22\n",
       "5835    22\n",
       "Name: age, Length: 1811, dtype: int64"
      ]
     },
     "execution_count": 35,
     "metadata": {},
     "output_type": "execute_result"
    }
   ],
   "source": [
    "AlwaysVoterAge = AlwaysVoter['age']\n",
    "AlwaysVoterAge"
   ]
  },
  {
   "cell_type": "code",
   "execution_count": 41,
   "metadata": {},
   "outputs": [
    {
     "data": {
      "image/png": "[encoded data removed]",
      "text/plain": [
       "<Figure size 432x288 with 1 Axes>"
      ]
     },
     "metadata": {
      "needs_background": "light"
     },
     "output_type": "display_data"
    }
   ],
   "source": [
    "LABEL_SIZE = 16\n",
    "TICK_SIZE = 14 \n",
    "n_bins = 15\n",
    "\n",
    "plt.hist(AlwaysVoterAge, color = 'navy', ec = 'black', lw = 2, rwidth = 0.8, bins = n_bins)\n",
    "ax = plt.gca()\n",
    "plt.tick_params(labelsize = TICK_SIZE)\n",
    "plt.grid(axis = 'y', color = 'white')\n",
    "plt.xlabel('Age of Voters', fontsize = LABEL_SIZE, labelpad = 25)\n",
    "plt.ylabel('Count', fontsize = LABEL_SIZE, labelpad = 25)\n",
    "[ax.spines[i].set_visible(False) for i in ax.spines]\n",
    "plt.title('Voters who always vote', fontsize = LABEL_SIZE)\n",
    "plt.xlim(20, 95)\n",
    "plt.ylim(0, 650)\n",
    "plt.xticks([20, 35, 50, 65, 80, 95])\n",
    "\n",
    "plt.show()"
   ]
  },
  {
   "cell_type": "code",
   "execution_count": 38,
   "metadata": {},
   "outputs": [
    {
     "data": {
      "text/html": [
       "<div>\n",
       "<style scoped>\n",
       "    .dataframe tbody tr th:only-of-type {\n",
       "        vertical-align: middle;\n",
       "    }\n",
       "\n",
       "    .dataframe tbody tr th {\n",
       "        vertical-align: top;\n",
       "    }\n",
       "\n",
       "    .dataframe thead th {\n",
       "        text-align: right;\n",
       "    }\n",
       "</style>\n",
       "<table border=\"1\" class=\"dataframe\">\n",
       "  <thead>\n",
       "    <tr style=\"text-align: right;\">\n",
       "      <th></th>\n",
       "      <th>age</th>\n",
       "      <th>voter_cat</th>\n",
       "    </tr>\n",
       "  </thead>\n",
       "  <tbody>\n",
       "    <tr>\n",
       "      <th>2</th>\n",
       "      <td>53</td>\n",
       "      <td>sporadic</td>\n",
       "    </tr>\n",
       "    <tr>\n",
       "      <th>3</th>\n",
       "      <td>58</td>\n",
       "      <td>sporadic</td>\n",
       "    </tr>\n",
       "    <tr>\n",
       "      <th>10</th>\n",
       "      <td>43</td>\n",
       "      <td>sporadic</td>\n",
       "    </tr>\n",
       "    <tr>\n",
       "      <th>11</th>\n",
       "      <td>42</td>\n",
       "      <td>sporadic</td>\n",
       "    </tr>\n",
       "    <tr>\n",
       "      <th>13</th>\n",
       "      <td>52</td>\n",
       "      <td>sporadic</td>\n",
       "    </tr>\n",
       "  </tbody>\n",
       "</table>\n",
       "</div>"
      ],
      "text/plain": [
       "    age voter_cat\n",
       "2    53  sporadic\n",
       "3    58  sporadic\n",
       "10   43  sporadic\n",
       "11   42  sporadic\n",
       "13   52  sporadic"
      ]
     },
     "execution_count": 38,
     "metadata": {},
     "output_type": "execute_result"
    }
   ],
   "source": [
    "SporadicVoter = VotingDataSub[VotingDataSub['voter_cat'] == 'sporadic']\n",
    "SporadicVoter.head()"
   ]
  },
  {
   "cell_type": "code",
   "execution_count": 42,
   "metadata": {},
   "outputs": [
    {
     "data": {
      "text/plain": [
       "2       53\n",
       "3       58\n",
       "10      43\n",
       "11      42\n",
       "13      52\n",
       "        ..\n",
       "5824    59\n",
       "5826    47\n",
       "5827    45\n",
       "5828    37\n",
       "5833    51\n",
       "Name: age, Length: 2574, dtype: int64"
      ]
     },
     "execution_count": 42,
     "metadata": {},
     "output_type": "execute_result"
    }
   ],
   "source": [
    "SporadicVoterAge = SporadicVoter['age']\n",
    "SporadicVoterAge"
   ]
  },
  {
   "cell_type": "code",
   "execution_count": 43,
   "metadata": {},
   "outputs": [
    {
     "data": {
      "image/png": "[encoded data removed]",
      "text/plain": [
       "<Figure size 432x288 with 1 Axes>"
      ]
     },
     "metadata": {
      "needs_background": "light"
     },
     "output_type": "display_data"
    }
   ],
   "source": [
    "LABEL_SIZE = 16\n",
    "TICK_SIZE = 14 \n",
    "n_bins = 15\n",
    "\n",
    "plt.hist(SporadicVoterAge, color = 'royalblue', ec = 'black', lw = 2, rwidth = 0.8, bins = n_bins)\n",
    "ax = plt.gca()\n",
    "plt.tick_params(labelsize = TICK_SIZE)\n",
    "plt.grid(axis = 'y', color = 'white')\n",
    "plt.xlabel('Age of Voters', fontsize = LABEL_SIZE, labelpad = 25)\n",
    "plt.ylabel('Count', fontsize = LABEL_SIZE, labelpad = 25)\n",
    "[ax.spines[i].set_visible(False) for i in ax.spines]\n",
    "plt.title('Voters who sporadicly vote', fontsize = LABEL_SIZE)\n",
    "plt.xlim(20, 95)\n",
    "plt.ylim(0, 650)\n",
    "plt.xticks([20, 35, 50, 65, 80, 95])\n",
    "\n",
    "plt.show()"
   ]
  },
  {
   "cell_type": "code",
   "execution_count": 44,
   "metadata": {},
   "outputs": [
    {
     "data": {
      "text/html": [
       "<div>\n",
       "<style scoped>\n",
       "    .dataframe tbody tr th:only-of-type {\n",
       "        vertical-align: middle;\n",
       "    }\n",
       "\n",
       "    .dataframe tbody tr th {\n",
       "        vertical-align: top;\n",
       "    }\n",
       "\n",
       "    .dataframe thead th {\n",
       "        text-align: right;\n",
       "    }\n",
       "</style>\n",
       "<table border=\"1\" class=\"dataframe\">\n",
       "  <thead>\n",
       "    <tr style=\"text-align: right;\">\n",
       "      <th></th>\n",
       "      <th>age</th>\n",
       "      <th>voter_cat</th>\n",
       "    </tr>\n",
       "  </thead>\n",
       "  <tbody>\n",
       "    <tr>\n",
       "      <th>5</th>\n",
       "      <td>61</td>\n",
       "      <td>rarely/never</td>\n",
       "    </tr>\n",
       "    <tr>\n",
       "      <th>12</th>\n",
       "      <td>48</td>\n",
       "      <td>rarely/never</td>\n",
       "    </tr>\n",
       "    <tr>\n",
       "      <th>20</th>\n",
       "      <td>46</td>\n",
       "      <td>rarely/never</td>\n",
       "    </tr>\n",
       "    <tr>\n",
       "      <th>26</th>\n",
       "      <td>50</td>\n",
       "      <td>rarely/never</td>\n",
       "    </tr>\n",
       "    <tr>\n",
       "      <th>32</th>\n",
       "      <td>47</td>\n",
       "      <td>rarely/never</td>\n",
       "    </tr>\n",
       "  </tbody>\n",
       "</table>\n",
       "</div>"
      ],
      "text/plain": [
       "    age     voter_cat\n",
       "5    61  rarely/never\n",
       "12   48  rarely/never\n",
       "20   46  rarely/never\n",
       "26   50  rarely/never\n",
       "32   47  rarely/never"
      ]
     },
     "execution_count": 44,
     "metadata": {},
     "output_type": "execute_result"
    }
   ],
   "source": [
    "RarelyNeverVoter = VotingDataSub[VotingDataSub['voter_cat'] == 'rarely/never']\n",
    "RarelyNeverVoter.head()"
   ]
  },
  {
   "cell_type": "code",
   "execution_count": 45,
   "metadata": {},
   "outputs": [
    {
     "data": {
      "text/plain": [
       "0       73\n",
       "1       90\n",
       "2       53\n",
       "3       58\n",
       "4       81\n",
       "        ..\n",
       "5831    27\n",
       "5832    59\n",
       "5833    51\n",
       "5834    22\n",
       "5835    22\n",
       "Name: age, Length: 5836, dtype: int64"
      ]
     },
     "execution_count": 45,
     "metadata": {},
     "output_type": "execute_result"
    }
   ],
   "source": [
    "RarelyNeverVoterAge = VotingDataSub['age']\n",
    "RarelyNeverVoterAge"
   ]
  },
  {
   "cell_type": "code",
   "execution_count": 46,
   "metadata": {},
   "outputs": [
    {
     "data": {
      "image/png": "[encoded data removed]",
      "text/plain": [
       "<Figure size 432x288 with 1 Axes>"
      ]
     },
     "metadata": {
      "needs_background": "light"
     },
     "output_type": "display_data"
    }
   ],
   "source": [
    "LABEL_SIZE = 16\n",
    "TICK_SIZE = 14 \n",
    "n_bins = 15\n",
    "\n",
    "plt.hist(RarelyNeverVoterAge, color = 'lightsteelblue', ec = 'black', lw = 2, rwidth = 0.8, bins = n_bins)\n",
    "ax = plt.gca()\n",
    "plt.tick_params(labelsize = TICK_SIZE)\n",
    "plt.grid(axis = 'y', color = 'white')\n",
    "plt.xlabel('Age of Voters', fontsize = LABEL_SIZE, labelpad = 25)\n",
    "plt.ylabel('Count', fontsize = LABEL_SIZE, labelpad = 25)\n",
    "[ax.spines[i].set_visible(False) for i in ax.spines]\n",
    "plt.title('Voters who rarely or never vote', fontsize = LABEL_SIZE)\n",
    "plt.xlim(20, 95)\n",
    "plt.ylim(0,650)\n",
    "plt.xticks([20, 35, 50, 65, 80, 95])\n",
    "\n",
    "plt.show()"
   ]
  },
  {
   "cell_type": "code",
   "execution_count": 47,
   "metadata": {},
   "outputs": [
    {
     "name": "stdout",
     "output_type": "stream",
     "text": [
      "22 - 92\n",
      "26 - 94\n",
      "22 - 94\n"
     ]
    }
   ],
   "source": [
    "print(AlwaysVoterAge.min(),'-', AlwaysVoterAge.max())\n",
    "print(SporadicVoterAge.min(), '-', SporadicVoterAge.max())\n",
    "print(RarelyNeverVoterAge.min(), '-', RarelyNeverVoterAge.max())"
   ]
  },
  {
   "cell_type": "code",
   "execution_count": 48,
   "metadata": {},
   "outputs": [
    {
     "data": {
      "image/png": "[encoded data removed]",
      "text/plain": [
       "<Figure size 1080x288 with 3 Axes>"
      ]
     },
     "metadata": {
      "needs_background": "light"
     },
     "output_type": "display_data"
    }
   ],
   "source": [
    "#Array of subplots that represnt the 3 categories of voters\n",
    "f,[ax_hist_always, ax_hist_sporadic, ax_hist_rare] = plt.subplots(1, 3, figsize = (15, 4))\n",
    "\n",
    "LABEL_SIZE = 18\n",
    "TICK_SIZE = 16\n",
    "n_bins = 15\n",
    "\n",
    "#The making of the always voters histogram\n",
    "ax_hist_always.hist(AlwaysVoterAge, color = 'navy', ec = 'black', lw = 2, rwidth = 0.8, bins = n_bins)\n",
    "ax_hist_always.tick_params(labelsize = TICK_SIZE)\n",
    "#ax_hist_always.grid(axis = 'y', color = 'white')\n",
    "ax_hist_always.set_ylabel('Count', fontsize = LABEL_SIZE, labelpad = 25)\n",
    "[ax_hist_always.spines[i].set_visible(False) for i in ax.spines]\n",
    "ax_hist_always.set_title('Voters who always vote', fontsize = LABEL_SIZE)\n",
    "ax_hist_always.set_xlim(20, 95)\n",
    "ax_hist_always.set_ylim(0, 670)\n",
    "ax_hist_always.set_xticks([20, 35, 50, 65, 80, 95])\n",
    "\n",
    "#The making of the sporadic voters histogram\n",
    "ax_hist_sporadic.hist(SporadicVoterAge, color = 'royalblue', ec = 'black', lw = 2, rwidth = 0.8, bins = n_bins)\n",
    "ax_hist_sporadic.tick_params(labelsize = TICK_SIZE)\n",
    "#ax_hist_sporadic.grid(axis = 'y', color = 'white')\n",
    "[ax_hist_sporadic.spines[i].set_visible(False) for i in ax.spines]\n",
    "ax_hist_sporadic.set_xlabel('Age of Voters', fontsize = LABEL_SIZE, labelpad = 30)\n",
    "ax_hist_sporadic.set_title('Voters who sporadicly vote', fontsize = LABEL_SIZE)\n",
    "ax_hist_sporadic.set_xlim(20, 95)\n",
    "ax_hist_sporadic.set_ylim(0, 670)\n",
    "ax_hist_sporadic.set_yticklabels([])\n",
    "ax_hist_sporadic.set_xticks([20, 35, 50, 65, 80, 95])\n",
    "\n",
    "for tic in ax_hist_sporadic.yaxis.get_major_ticks():\n",
    "    tic.tick1line.set_visible(False)\n",
    "\n",
    "#The making of the rarely/never voters histogram    \n",
    "ax_hist_rare.hist(RarelyNeverVoterAge, color = 'lightsteelblue', ec = 'black', lw = 2, rwidth = 0.8, bins = n_bins)\n",
    "ax_hist_rare.tick_params(labelsize = TICK_SIZE)\n",
    "#ax_hist_rare.grid(axis = 'y', color = 'white')\n",
    "[ax_hist_rare.spines[i].set_visible(False) for i in ax.spines]\n",
    "ax_hist_rare.set_title('Voters who rarely or never vote', fontsize = LABEL_SIZE)\n",
    "ax_hist_rare.set_xlim(20, 95)\n",
    "ax_hist_rare.set_ylim(0, 670)\n",
    "ax_hist_rare.set_yticklabels([])\n",
    "ax_hist_rare.set_xticks([20, 35, 50, 65, 80, 95])\n",
    "\n",
    "for tic in ax_hist_rare.yaxis.get_major_ticks():\n",
    "    tic.tick1line.set_visible(False)\n",
    "\n",
    "plt.show()\n",
    "\n",
    "f.savefig('histograms.png', bbox_inches = 'tight')"
   ]
  },
  {
   "cell_type": "code",
   "execution_count": null,
   "metadata": {},
   "outputs": [],
   "source": []
  }
 ],
 "metadata": {
  "kernelspec": {
   "display_name": "Python 3",
   "language": "python",
   "name": "python3"
  },
  "language_info": {
   "codemirror_mode": {
    "name": "ipython",
    "version": 3
   },
   "file_extension": ".py",
   "mimetype": "text/x-python",
   "name": "python",
   "nbconvert_exporter": "python",
   "pygments_lexer": "ipython3",
   "version": "3.8.3"
  }
 },
 "nbformat": 4,
 "nbformat_minor": 4
}
